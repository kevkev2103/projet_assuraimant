{
 "cells": [
  {
   "cell_type": "code",
   "execution_count": 101,
   "metadata": {},
   "outputs": [
    {
     "data": {
      "text/html": [
       "<div>\n",
       "<style scoped>\n",
       "    .dataframe tbody tr th:only-of-type {\n",
       "        vertical-align: middle;\n",
       "    }\n",
       "\n",
       "    .dataframe tbody tr th {\n",
       "        vertical-align: top;\n",
       "    }\n",
       "\n",
       "    .dataframe thead th {\n",
       "        text-align: right;\n",
       "    }\n",
       "</style>\n",
       "<table border=\"1\" class=\"dataframe\">\n",
       "  <thead>\n",
       "    <tr style=\"text-align: right;\">\n",
       "      <th></th>\n",
       "      <th>Position</th>\n",
       "      <th>Sexe</th>\n",
       "      <th>Temps</th>\n",
       "      <th>Dept</th>\n",
       "      <th>Temps_secondes</th>\n",
       "      <th>Age</th>\n",
       "    </tr>\n",
       "  </thead>\n",
       "  <tbody>\n",
       "    <tr>\n",
       "      <th>0</th>\n",
       "      <td>1</td>\n",
       "      <td>M</td>\n",
       "      <td>00:32:23</td>\n",
       "      <td>76</td>\n",
       "      <td>779543</td>\n",
       "      <td>40.0</td>\n",
       "    </tr>\n",
       "    <tr>\n",
       "      <th>1</th>\n",
       "      <td>2</td>\n",
       "      <td>M</td>\n",
       "      <td>00:32:40</td>\n",
       "      <td>27</td>\n",
       "      <td>779560</td>\n",
       "      <td>34.0</td>\n",
       "    </tr>\n",
       "    <tr>\n",
       "      <th>2</th>\n",
       "      <td>3</td>\n",
       "      <td>M</td>\n",
       "      <td>00:33:15</td>\n",
       "      <td>76</td>\n",
       "      <td>779595</td>\n",
       "      <td>44.0</td>\n",
       "    </tr>\n",
       "    <tr>\n",
       "      <th>3</th>\n",
       "      <td>4</td>\n",
       "      <td>M</td>\n",
       "      <td>00:33:23</td>\n",
       "      <td>76</td>\n",
       "      <td>779603</td>\n",
       "      <td>46.0</td>\n",
       "    </tr>\n",
       "    <tr>\n",
       "      <th>4</th>\n",
       "      <td>5</td>\n",
       "      <td>M</td>\n",
       "      <td>00:33:29</td>\n",
       "      <td>76</td>\n",
       "      <td>779609</td>\n",
       "      <td>26.0</td>\n",
       "    </tr>\n",
       "  </tbody>\n",
       "</table>\n",
       "</div>"
      ],
      "text/plain": [
       "   Position Sexe     Temps  Dept  Temps_secondes   Age\n",
       "0         1    M  00:32:23    76          779543  40.0\n",
       "1         2    M  00:32:40    27          779560  34.0\n",
       "2         3    M  00:33:15    76          779595  44.0\n",
       "3         4    M  00:33:23    76          779603  46.0\n",
       "4         5    M  00:33:29    76          779609  26.0"
      ]
     },
     "execution_count": 101,
     "metadata": {},
     "output_type": "execute_result"
    }
   ],
   "source": [
    "# https://openclassrooms.com/fr/courses/7410486-nettoyez-et-analysez-votre-jeu-de-donnees/exercises/4257\n",
    "\n",
    "import pandas as pd\n",
    "\n",
    "df = pd.read_csv('data/course.csv')\n",
    "df.head()"
   ]
  },
  {
   "cell_type": "markdown",
   "metadata": {},
   "source": [
    "Q1"
   ]
  },
  {
   "cell_type": "code",
   "execution_count": 102,
   "metadata": {},
   "outputs": [
    {
     "data": {
      "text/plain": [
       "array([76, 27, 14, 78])"
      ]
     },
     "execution_count": 102,
     "metadata": {},
     "output_type": "execute_result"
    }
   ],
   "source": [
    "df.Dept.unique()"
   ]
  },
  {
   "cell_type": "markdown",
   "metadata": {},
   "source": [
    "Q2"
   ]
  },
  {
   "cell_type": "code",
   "execution_count": 103,
   "metadata": {},
   "outputs": [
    {
     "data": {
      "text/plain": [
       "Position          0\n",
       "Sexe              2\n",
       "Temps             0\n",
       "Dept              0\n",
       "Temps_secondes    0\n",
       "Age               4\n",
       "dtype: int64"
      ]
     },
     "execution_count": 103,
     "metadata": {},
     "output_type": "execute_result"
    }
   ],
   "source": [
    "df.isnull().sum()"
   ]
  },
  {
   "cell_type": "markdown",
   "metadata": {},
   "source": [
    "Q3"
   ]
  },
  {
   "cell_type": "code",
   "execution_count": 104,
   "metadata": {},
   "outputs": [
    {
     "data": {
      "text/html": [
       "<div>\n",
       "<style scoped>\n",
       "    .dataframe tbody tr th:only-of-type {\n",
       "        vertical-align: middle;\n",
       "    }\n",
       "\n",
       "    .dataframe tbody tr th {\n",
       "        vertical-align: top;\n",
       "    }\n",
       "\n",
       "    .dataframe thead th {\n",
       "        text-align: right;\n",
       "    }\n",
       "</style>\n",
       "<table border=\"1\" class=\"dataframe\">\n",
       "  <thead>\n",
       "    <tr style=\"text-align: right;\">\n",
       "      <th></th>\n",
       "      <th>Position</th>\n",
       "      <th>Sexe</th>\n",
       "      <th>Temps</th>\n",
       "      <th>Dept</th>\n",
       "      <th>Temps_secondes</th>\n",
       "      <th>Age</th>\n",
       "      <th>time</th>\n",
       "    </tr>\n",
       "  </thead>\n",
       "  <tbody>\n",
       "    <tr>\n",
       "      <th>250</th>\n",
       "      <td>251</td>\n",
       "      <td>M</td>\n",
       "      <td>54min47s</td>\n",
       "      <td>27</td>\n",
       "      <td>780887</td>\n",
       "      <td>42.0</td>\n",
       "      <td>NaT</td>\n",
       "    </tr>\n",
       "  </tbody>\n",
       "</table>\n",
       "</div>"
      ],
      "text/plain": [
       "     Position Sexe     Temps  Dept  Temps_secondes   Age time\n",
       "250       251    M  54min47s    27          780887  42.0  NaT"
      ]
     },
     "execution_count": 104,
     "metadata": {},
     "output_type": "execute_result"
    }
   ],
   "source": [
    "df['time'] = pd.to_datetime(df.Temps, errors='coerce', format='%H:%M:%S')\n",
    "df.loc[df.time.isnull()]"
   ]
  },
  {
   "cell_type": "markdown",
   "metadata": {},
   "source": [
    "Q4"
   ]
  },
  {
   "cell_type": "markdown",
   "metadata": {},
   "source": [
    "* Standardisation"
   ]
  },
  {
   "cell_type": "code",
   "execution_count": 105,
   "metadata": {},
   "outputs": [],
   "source": [
    "# on supprime les lignes avec age = NaN\n",
    "df.drop(df.loc[df.Age.isnull()].index, inplace=True)"
   ]
  },
  {
   "cell_type": "code",
   "execution_count": 106,
   "metadata": {},
   "outputs": [
    {
     "data": {
      "text/html": [
       "<div>\n",
       "<style scoped>\n",
       "    .dataframe tbody tr th:only-of-type {\n",
       "        vertical-align: middle;\n",
       "    }\n",
       "\n",
       "    .dataframe tbody tr th {\n",
       "        vertical-align: top;\n",
       "    }\n",
       "\n",
       "    .dataframe thead th {\n",
       "        text-align: right;\n",
       "    }\n",
       "</style>\n",
       "<table border=\"1\" class=\"dataframe\">\n",
       "  <thead>\n",
       "    <tr style=\"text-align: right;\">\n",
       "      <th></th>\n",
       "      <th>position_z</th>\n",
       "      <th>temps_secondes_z</th>\n",
       "      <th>age_z</th>\n",
       "    </tr>\n",
       "  </thead>\n",
       "  <tbody>\n",
       "    <tr>\n",
       "      <th>0</th>\n",
       "      <td>-1.052892</td>\n",
       "      <td>-1.956761</td>\n",
       "      <td>-0.153672</td>\n",
       "    </tr>\n",
       "    <tr>\n",
       "      <th>1</th>\n",
       "      <td>-1.046919</td>\n",
       "      <td>-1.923864</td>\n",
       "      <td>-0.583358</td>\n",
       "    </tr>\n",
       "    <tr>\n",
       "      <th>2</th>\n",
       "      <td>-1.040947</td>\n",
       "      <td>-1.856136</td>\n",
       "      <td>0.132785</td>\n",
       "    </tr>\n",
       "    <tr>\n",
       "      <th>3</th>\n",
       "      <td>-1.034975</td>\n",
       "      <td>-1.840655</td>\n",
       "      <td>0.276013</td>\n",
       "    </tr>\n",
       "    <tr>\n",
       "      <th>4</th>\n",
       "      <td>-1.029002</td>\n",
       "      <td>-1.829044</td>\n",
       "      <td>-1.156273</td>\n",
       "    </tr>\n",
       "  </tbody>\n",
       "</table>\n",
       "</div>"
      ],
      "text/plain": [
       "   position_z  temps_secondes_z     age_z\n",
       "0   -1.052892         -1.956761 -0.153672\n",
       "1   -1.046919         -1.923864 -0.583358\n",
       "2   -1.040947         -1.856136  0.132785\n",
       "3   -1.034975         -1.840655  0.276013\n",
       "4   -1.029002         -1.829044 -1.156273"
      ]
     },
     "execution_count": 106,
     "metadata": {},
     "output_type": "execute_result"
    }
   ],
   "source": [
    "import numpy as np\n",
    "# on standardise les data\n",
    "df_std = pd.DataFrame()\n",
    "df_std['position_z'] = (df.Position - df.Position.mean()) / df.Position.std()\n",
    "df_std['temps_secondes_z'] = (df.Temps_secondes - df.Temps_secondes.mean()) / df.Temps_secondes.std()\n",
    "df_std['age_z'] = (df.Age - df.Age.mean()) / df.Age.std()\n",
    "df_std.head()"
   ]
  },
  {
   "cell_type": "code",
   "execution_count": 107,
   "metadata": {},
   "outputs": [
    {
     "data": {
      "text/html": [
       "<div>\n",
       "<style scoped>\n",
       "    .dataframe tbody tr th:only-of-type {\n",
       "        vertical-align: middle;\n",
       "    }\n",
       "\n",
       "    .dataframe tbody tr th {\n",
       "        vertical-align: top;\n",
       "    }\n",
       "\n",
       "    .dataframe thead th {\n",
       "        text-align: right;\n",
       "    }\n",
       "</style>\n",
       "<table border=\"1\" class=\"dataframe\">\n",
       "  <thead>\n",
       "    <tr style=\"text-align: right;\">\n",
       "      <th></th>\n",
       "      <th>position_z</th>\n",
       "      <th>temps_secondes_z</th>\n",
       "      <th>age_z</th>\n",
       "    </tr>\n",
       "  </thead>\n",
       "  <tbody>\n",
       "    <tr>\n",
       "      <th>0</th>\n",
       "      <td>1.054462</td>\n",
       "      <td>1.959680</td>\n",
       "      <td>0.153902</td>\n",
       "    </tr>\n",
       "    <tr>\n",
       "      <th>1</th>\n",
       "      <td>1.048481</td>\n",
       "      <td>1.926734</td>\n",
       "      <td>0.584228</td>\n",
       "    </tr>\n",
       "    <tr>\n",
       "      <th>2</th>\n",
       "      <td>1.042499</td>\n",
       "      <td>1.858904</td>\n",
       "      <td>0.132983</td>\n",
       "    </tr>\n",
       "    <tr>\n",
       "      <th>3</th>\n",
       "      <td>1.036518</td>\n",
       "      <td>1.843400</td>\n",
       "      <td>0.276425</td>\n",
       "    </tr>\n",
       "    <tr>\n",
       "      <th>4</th>\n",
       "      <td>1.030537</td>\n",
       "      <td>1.831772</td>\n",
       "      <td>1.157997</td>\n",
       "    </tr>\n",
       "  </tbody>\n",
       "</table>\n",
       "</div>"
      ],
      "text/plain": [
       "   position_z  temps_secondes_z     age_z\n",
       "0    1.054462          1.959680  0.153902\n",
       "1    1.048481          1.926734  0.584228\n",
       "2    1.042499          1.858904  0.132983\n",
       "3    1.036518          1.843400  0.276425\n",
       "4    1.030537          1.831772  1.157997"
      ]
     },
     "execution_count": 107,
     "metadata": {},
     "output_type": "execute_result"
    }
   ],
   "source": [
    "# Avec scipy\n",
    "from scipy import stats\n",
    "\n",
    "df_std['position_z'] = np.abs(stats.zscore(df.Position))\n",
    "df_std['temps_secondes_z'] = np.abs(stats.zscore(df.Temps_secondes))\n",
    "df_std['age_z'] = np.abs(stats.zscore(df.Age))\n",
    "df_std.head()"
   ]
  },
  {
   "cell_type": "markdown",
   "metadata": {},
   "source": [
    "_Recherche via seaborn_"
   ]
  },
  {
   "cell_type": "code",
   "execution_count": 108,
   "metadata": {},
   "outputs": [
    {
     "data": {
      "text/plain": [
       "<Axes: >"
      ]
     },
     "execution_count": 108,
     "metadata": {},
     "output_type": "execute_result"
    },
    {
     "data": {
      "image/png": "[encoded data removed]",
      "text/plain": [
       "<Figure size 640x480 with 1 Axes>"
      ]
     },
     "metadata": {},
     "output_type": "display_data"
    }
   ],
   "source": [
    "import seaborn as sns\n",
    "\n",
    "sns.boxplot(df_std)"
   ]
  },
  {
   "cell_type": "markdown",
   "metadata": {},
   "source": [
    "_Recherche numérique_"
   ]
  },
  {
   "cell_type": "code",
   "execution_count": 123,
   "metadata": {},
   "outputs": [
    {
     "data": {
      "text/html": [
       "<div>\n",
       "<style scoped>\n",
       "    .dataframe tbody tr th:only-of-type {\n",
       "        vertical-align: middle;\n",
       "    }\n",
       "\n",
       "    .dataframe tbody tr th {\n",
       "        vertical-align: top;\n",
       "    }\n",
       "\n",
       "    .dataframe thead th {\n",
       "        text-align: right;\n",
       "    }\n",
       "</style>\n",
       "<table border=\"1\" class=\"dataframe\">\n",
       "  <thead>\n",
       "    <tr style=\"text-align: right;\">\n",
       "      <th></th>\n",
       "      <th>position_z</th>\n",
       "      <th>temps_secondes_z</th>\n",
       "      <th>age_z</th>\n",
       "    </tr>\n",
       "  </thead>\n",
       "  <tbody>\n",
       "    <tr>\n",
       "      <th>264</th>\n",
       "      <td>14.730320</td>\n",
       "      <td>0.827154</td>\n",
       "      <td>0.635031</td>\n",
       "    </tr>\n",
       "    <tr>\n",
       "      <th>302</th>\n",
       "      <td>0.751906</td>\n",
       "      <td>1.259326</td>\n",
       "      <td>9.456728</td>\n",
       "    </tr>\n",
       "  </tbody>\n",
       "</table>\n",
       "</div>"
      ],
      "text/plain": [
       "     position_z  temps_secondes_z     age_z\n",
       "264   14.730320          0.827154  0.635031\n",
       "302    0.751906          1.259326  9.456728"
      ]
     },
     "execution_count": 123,
     "metadata": {},
     "output_type": "execute_result"
    }
   ],
   "source": [
    "limit = 3\n",
    "\n",
    "outliers = df_std.loc[df_std.values > limit]\n",
    "outliers.head()"
   ]
  },
  {
   "cell_type": "code",
   "execution_count": 110,
   "metadata": {},
   "outputs": [
    {
     "name": "stdout",
     "output_type": "stream",
     "text": [
      "[1.77291667e+02 7.80554190e+05 4.21458333e+01]\n"
     ]
    },
    {
     "data": {
      "text/html": [
       "<div>\n",
       "<style scoped>\n",
       "    .dataframe tbody tr th:only-of-type {\n",
       "        vertical-align: middle;\n",
       "    }\n",
       "\n",
       "    .dataframe tbody tr th {\n",
       "        vertical-align: top;\n",
       "    }\n",
       "\n",
       "    .dataframe thead th {\n",
       "        text-align: right;\n",
       "    }\n",
       "</style>\n",
       "<table border=\"1\" class=\"dataframe\">\n",
       "  <thead>\n",
       "    <tr style=\"text-align: right;\">\n",
       "      <th></th>\n",
       "      <th>Position</th>\n",
       "      <th>Temps_secondes</th>\n",
       "      <th>Age</th>\n",
       "    </tr>\n",
       "  </thead>\n",
       "  <tbody>\n",
       "    <tr>\n",
       "      <th>260</th>\n",
       "      <td>14.730320</td>\n",
       "      <td>0.827154</td>\n",
       "      <td>0.635031</td>\n",
       "    </tr>\n",
       "    <tr>\n",
       "      <th>298</th>\n",
       "      <td>0.751906</td>\n",
       "      <td>1.259326</td>\n",
       "      <td>9.456728</td>\n",
       "    </tr>\n",
       "  </tbody>\n",
       "</table>\n",
       "</div>"
      ],
      "text/plain": [
       "      Position  Temps_secondes       Age\n",
       "260  14.730320        0.827154  0.635031\n",
       "298   0.751906        1.259326  9.456728"
      ]
     },
     "execution_count": 110,
     "metadata": {},
     "output_type": "execute_result"
    }
   ],
   "source": [
    "# avec sklearn\n",
    "from sklearn.preprocessing import StandardScaler\n",
    "\n",
    "scaler = StandardScaler()\n",
    "  \n",
    "# transform data \n",
    "limit = 3\n",
    "d = df[['Position', 'Temps_secondes', 'Age']]\n",
    "outliers_std = pd.DataFrame(scaler.fit_transform(d), columns=d.columns)\n",
    "outliers = outliers_std.loc[outliers_std.values > limit]\n",
    "outliers.head()"
   ]
  },
  {
   "cell_type": "markdown",
   "metadata": {},
   "source": [
    "Q5"
   ]
  },
  {
   "cell_type": "code",
   "execution_count": 117,
   "metadata": {},
   "outputs": [
    {
     "data": {
      "text/html": [
       "<div>\n",
       "<style scoped>\n",
       "    .dataframe tbody tr th:only-of-type {\n",
       "        vertical-align: middle;\n",
       "    }\n",
       "\n",
       "    .dataframe tbody tr th {\n",
       "        vertical-align: top;\n",
       "    }\n",
       "\n",
       "    .dataframe thead th {\n",
       "        text-align: right;\n",
       "    }\n",
       "</style>\n",
       "<table border=\"1\" class=\"dataframe\">\n",
       "  <thead>\n",
       "    <tr style=\"text-align: right;\">\n",
       "      <th></th>\n",
       "      <th>Position</th>\n",
       "      <th>Sexe</th>\n",
       "      <th>Temps</th>\n",
       "      <th>Dept</th>\n",
       "      <th>Temps_secondes</th>\n",
       "      <th>Age</th>\n",
       "      <th>time</th>\n",
       "    </tr>\n",
       "  </thead>\n",
       "  <tbody>\n",
       "    <tr>\n",
       "      <th>28</th>\n",
       "      <td>29</td>\n",
       "      <td>M</td>\n",
       "      <td>00:37:07</td>\n",
       "      <td>76</td>\n",
       "      <td>779827</td>\n",
       "      <td>31.0</td>\n",
       "      <td>1900-01-01 00:37:07</td>\n",
       "    </tr>\n",
       "    <tr>\n",
       "      <th>29</th>\n",
       "      <td>30</td>\n",
       "      <td>M</td>\n",
       "      <td>00:37:07</td>\n",
       "      <td>76</td>\n",
       "      <td>779827</td>\n",
       "      <td>25.0</td>\n",
       "      <td>1900-01-01 00:37:07</td>\n",
       "    </tr>\n",
       "    <tr>\n",
       "      <th>57</th>\n",
       "      <td>58</td>\n",
       "      <td>M</td>\n",
       "      <td>00:40:41</td>\n",
       "      <td>76</td>\n",
       "      <td>780041</td>\n",
       "      <td>65.0</td>\n",
       "      <td>1900-01-01 00:40:41</td>\n",
       "    </tr>\n",
       "    <tr>\n",
       "      <th>58</th>\n",
       "      <td>59</td>\n",
       "      <td>M</td>\n",
       "      <td>00:40:41</td>\n",
       "      <td>27</td>\n",
       "      <td>780041</td>\n",
       "      <td>42.0</td>\n",
       "      <td>1900-01-01 00:40:41</td>\n",
       "    </tr>\n",
       "    <tr>\n",
       "      <th>62</th>\n",
       "      <td>63</td>\n",
       "      <td>M</td>\n",
       "      <td>00:41:13</td>\n",
       "      <td>76</td>\n",
       "      <td>780073</td>\n",
       "      <td>53.0</td>\n",
       "      <td>1900-01-01 00:41:13</td>\n",
       "    </tr>\n",
       "    <tr>\n",
       "      <th>...</th>\n",
       "      <td>...</td>\n",
       "      <td>...</td>\n",
       "      <td>...</td>\n",
       "      <td>...</td>\n",
       "      <td>...</td>\n",
       "      <td>...</td>\n",
       "      <td>...</td>\n",
       "    </tr>\n",
       "    <tr>\n",
       "      <th>328</th>\n",
       "      <td>329</td>\n",
       "      <td>F</td>\n",
       "      <td>01:06:07</td>\n",
       "      <td>27</td>\n",
       "      <td>781567</td>\n",
       "      <td>20.0</td>\n",
       "      <td>1900-01-01 01:06:07</td>\n",
       "    </tr>\n",
       "    <tr>\n",
       "      <th>329</th>\n",
       "      <td>330</td>\n",
       "      <td>F</td>\n",
       "      <td>01:06:07</td>\n",
       "      <td>27</td>\n",
       "      <td>781567</td>\n",
       "      <td>28.0</td>\n",
       "      <td>1900-01-01 01:06:07</td>\n",
       "    </tr>\n",
       "    <tr>\n",
       "      <th>330</th>\n",
       "      <td>331</td>\n",
       "      <td>F</td>\n",
       "      <td>01:06:07</td>\n",
       "      <td>27</td>\n",
       "      <td>781567</td>\n",
       "      <td>29.0</td>\n",
       "      <td>1900-01-01 01:06:07</td>\n",
       "    </tr>\n",
       "    <tr>\n",
       "      <th>337</th>\n",
       "      <td>338</td>\n",
       "      <td>M</td>\n",
       "      <td>01:09:31</td>\n",
       "      <td>27</td>\n",
       "      <td>781771</td>\n",
       "      <td>24.0</td>\n",
       "      <td>1900-01-01 01:09:31</td>\n",
       "    </tr>\n",
       "    <tr>\n",
       "      <th>338</th>\n",
       "      <td>339</td>\n",
       "      <td>F</td>\n",
       "      <td>01:09:31</td>\n",
       "      <td>27</td>\n",
       "      <td>781771</td>\n",
       "      <td>25.0</td>\n",
       "      <td>1900-01-01 01:09:31</td>\n",
       "    </tr>\n",
       "  </tbody>\n",
       "</table>\n",
       "<p>74 rows × 7 columns</p>\n",
       "</div>"
      ],
      "text/plain": [
       "     Position Sexe     Temps  Dept  Temps_secondes   Age                time\n",
       "28         29    M  00:37:07    76          779827  31.0 1900-01-01 00:37:07\n",
       "29         30    M  00:37:07    76          779827  25.0 1900-01-01 00:37:07\n",
       "57         58    M  00:40:41    76          780041  65.0 1900-01-01 00:40:41\n",
       "58         59    M  00:40:41    27          780041  42.0 1900-01-01 00:40:41\n",
       "62         63    M  00:41:13    76          780073  53.0 1900-01-01 00:41:13\n",
       "..        ...  ...       ...   ...             ...   ...                 ...\n",
       "328       329    F  01:06:07    27          781567  20.0 1900-01-01 01:06:07\n",
       "329       330    F  01:06:07    27          781567  28.0 1900-01-01 01:06:07\n",
       "330       331    F  01:06:07    27          781567  29.0 1900-01-01 01:06:07\n",
       "337       338    M  01:09:31    27          781771  24.0 1900-01-01 01:09:31\n",
       "338       339    F  01:09:31    27          781771  25.0 1900-01-01 01:09:31\n",
       "\n",
       "[74 rows x 7 columns]"
      ]
     },
     "execution_count": 117,
     "metadata": {},
     "output_type": "execute_result"
    }
   ],
   "source": [
    "#df[['Position', 'Temps_secondes']].duplicated()\n",
    "df.loc[df['Temps_secondes'].duplicated(keep=False), :]"
   ]
  },
  {
   "cell_type": "markdown",
   "metadata": {},
   "source": [
    "Q6"
   ]
  },
  {
   "cell_type": "code",
   "execution_count": 124,
   "metadata": {},
   "outputs": [
    {
     "data": {
      "text/plain": [
       "0      -100\n",
       "1         1\n",
       "2         2\n",
       "3         3\n",
       "4         4\n",
       "       ... \n",
       "331     337\n",
       "332     338\n",
       "333     339\n",
       "334     340\n",
       "335    2640\n",
       "Name: Position, Length: 336, dtype: int64"
      ]
     },
     "execution_count": 124,
     "metadata": {},
     "output_type": "execute_result"
    }
   ],
   "source": [
    "df.Sexe.unique()\n",
    "df.Position.mode()"
   ]
  }
 ],
 "metadata": {
  "kernelspec": {
   "display_name": ".venv",
   "language": "python",
   "name": "python3"
  },
  "language_info": {
   "codemirror_mode": {
    "name": "ipython",
    "version": 3
   },
   "file_extension": ".py",
   "mimetype": "text/x-python",
   "name": "python",
   "nbconvert_exporter": "python",
   "pygments_lexer": "ipython3",
   "version": "3.12.0"
  }
 },
 "nbformat": 4,
 "nbformat_minor": 2
}
