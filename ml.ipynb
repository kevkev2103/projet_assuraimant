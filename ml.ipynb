{
 "cells": [
  {
   "cell_type": "markdown",
   "metadata": {},
   "source": [
    "1. Nettoyage\n",
    "2. Analyse des variables\n",
    "3. Encodage (OneHot, LabelEncoder...)\n",
    "4. Normalisation (et centrage)\n",
    "5. Split données\n",
    "6. Fit sur X_train, y_train \n",
    "7. Score sur X_test, y_test"
   ]
  },
  {
   "cell_type": "code",
   "execution_count": 26,
   "metadata": {},
   "outputs": [],
   "source": [
    "import pandas as pd\n",
    "import numpy as np\n",
    "import matplotlib.pyplot as plt\n",
    "import seaborn as sns\n",
    "\n",
    "from sklearn.model_selection import train_test_split\n",
    "from sklearn.metrics import mean_squared_error"
   ]
  },
  {
   "cell_type": "code",
   "execution_count": 27,
   "metadata": {},
   "outputs": [
    {
     "name": "stdout",
     "output_type": "stream",
     "text": [
      "<class 'pandas.core.frame.DataFrame'>\n",
      "RangeIndex: 1338 entries, 0 to 1337\n",
      "Data columns (total 7 columns):\n",
      " #   Column    Non-Null Count  Dtype  \n",
      "---  ------    --------------  -----  \n",
      " 0   age       1338 non-null   int64  \n",
      " 1   sex       1338 non-null   object \n",
      " 2   bmi       1338 non-null   float64\n",
      " 3   children  1338 non-null   int64  \n",
      " 4   smoker    1338 non-null   object \n",
      " 5   region    1338 non-null   object \n",
      " 6   charges   1338 non-null   float64\n",
      "dtypes: float64(2), int64(2), object(3)\n",
      "memory usage: 73.3+ KB\n"
     ]
    }
   ],
   "source": [
    "df = pd.read_csv('data/data.csv')\n",
    "df.info()"
   ]
  },
  {
   "cell_type": "markdown",
   "metadata": {},
   "source": [
    "# Split des data"
   ]
  },
  {
   "cell_type": "code",
   "execution_count": 28,
   "metadata": {},
   "outputs": [
    {
     "name": "stdout",
     "output_type": "stream",
     "text": [
      "X_train (1137, 6)\n",
      "X_test (201, 6)\n",
      "y_train (1137, 6)\n",
      "y_test (201, 6)\n"
     ]
    }
   ],
   "source": [
    "df.sex = df.sex.astype('category')\n",
    "df.smoker = df.smoker.astype('category')\n",
    "df.region = df.region.astype('category')\n",
    "\n",
    "y = df['charges']\n",
    "df = df.drop('charges', axis=1)\n",
    "X = df[['age', 'sex', 'bmi', 'children', 'smoker', 'region']]\n",
    "\n",
    "X_train, X_test, y_train, y_test = train_test_split(X, y, random_state=42, train_size=.85)\n",
    "print('X_train', X_train.shape)\n",
    "print('X_test', X_test.shape)\n",
    "print('y_train', X_train.shape)\n",
    "print('y_test', X_test.shape)"
   ]
  },
  {
   "cell_type": "markdown",
   "metadata": {},
   "source": [
    "# Test entre 2 méthodes"
   ]
  },
  {
   "cell_type": "markdown",
   "metadata": {},
   "source": [
    "### init"
   ]
  },
  {
   "cell_type": "code",
   "execution_count": 29,
   "metadata": {},
   "outputs": [],
   "source": [
    "from sklearn import set_config\n",
    "from sklearn.compose import make_column_transformer\n",
    "from sklearn.pipeline import Pipeline, make_pipeline\n",
    "from sklearn.preprocessing import PolynomialFeatures, MinMaxScaler, StandardScaler\n",
    "from sklearn.linear_model import Lasso, LassoCV\n",
    "\n",
    "from feature_engine.creation import MathFeatures\n",
    "from feature_engine.encoding import OneHotEncoder, OrdinalEncoder\n",
    "from feature_engine.discretisation import ArbitraryDiscretiser\n",
    "\n",
    "set_config(transform_output = \"pandas\")\n",
    "\n",
    "alphas = np.linspace(.1, 50, 20)\n",
    "l1_ratios = np.linspace(0.01, 1, 20)\n",
    "bmi_dict = {'bmi': [0, 18.5, 25, 30, 40, np.Inf]}"
   ]
  },
  {
   "cell_type": "markdown",
   "metadata": {},
   "source": [
    "## GridSearchSV"
   ]
  },
  {
   "cell_type": "markdown",
   "metadata": {},
   "source": [
    "### Pipeline"
   ]
  },
  {
   "cell_type": "code",
   "execution_count": 34,
   "metadata": {},
   "outputs": [
    {
     "name": "stdout",
     "output_type": "stream",
     "text": [
      "      onehotencoder__region_northwest  onehotencoder__region_southeast  \\\n",
      "331                                 1                                0   \n",
      "796                                 0                                1   \n",
      "1039                                1                                0   \n",
      "261                                 0                                1   \n",
      "70                                  0                                1   \n",
      "...                               ...                              ...   \n",
      "1095                                0                                0   \n",
      "1130                                0                                1   \n",
      "1294                                0                                0   \n",
      "860                                 0                                0   \n",
      "1126                                0                                0   \n",
      "\n",
      "      onehotencoder__region_southwest  onehotencoder__region_northeast  \\\n",
      "331                                 0                                0   \n",
      "796                                 0                                0   \n",
      "1039                                0                                0   \n",
      "261                                 0                                0   \n",
      "70                                  0                                0   \n",
      "...                               ...                              ...   \n",
      "1095                                0                                1   \n",
      "1130                                0                                0   \n",
      "1294                                0                                1   \n",
      "860                                 1                                0   \n",
      "1126                                1                                0   \n",
      "\n",
      "      ordinalencoder__smoker  ordinalencoder__sex  pipeline__bmi_(25.0, 30.0]  \\\n",
      "331                        1                    1                           1   \n",
      "796                        0                    1                           0   \n",
      "1039                       0                    1                           1   \n",
      "261                        1                    0                           1   \n",
      "70                         1                    0                           0   \n",
      "...                      ...                  ...                         ...   \n",
      "1095                       0                    0                           0   \n",
      "1130                       0                    0                           0   \n",
      "1294                       0                    1                           1   \n",
      "860                        1                    0                           0   \n",
      "1126                       0                    1                           1   \n",
      "\n",
      "      pipeline__bmi_(40.0, inf]  pipeline__bmi_(18.5, 25.0]  \\\n",
      "331                           0                           0   \n",
      "796                           1                           0   \n",
      "1039                          0                           0   \n",
      "261                           0                           0   \n",
      "70                            0                           1   \n",
      "...                         ...                         ...   \n",
      "1095                          0                           0   \n",
      "1130                          0                           1   \n",
      "1294                          0                           0   \n",
      "860                           1                           0   \n",
      "1126                          0                           0   \n",
      "\n",
      "      pipeline__bmi_(30.0, 40.0]  pipeline__bmi_(-0.001, 18.5]  \\\n",
      "331                            0                             0   \n",
      "796                            0                             0   \n",
      "1039                           0                             0   \n",
      "261                            0                             0   \n",
      "70                             0                             0   \n",
      "...                          ...                           ...   \n",
      "1095                           1                             0   \n",
      "1130                           0                             0   \n",
      "1294                           0                             0   \n",
      "860                            0                             0   \n",
      "1126                           0                             0   \n",
      "\n",
      "      remainder__age  remainder__children  \n",
      "331               52                    0  \n",
      "796               30                    2  \n",
      "1039              19                    2  \n",
      "261               20                    1  \n",
      "70                27                    0  \n",
      "...              ...                  ...  \n",
      "1095              18                    4  \n",
      "1130              39                    5  \n",
      "1294              58                    0  \n",
      "860               37                    2  \n",
      "1126              55                    0  \n",
      "\n",
      "[1137 rows x 13 columns]\n"
     ]
    },
    {
     "name": "stderr",
     "output_type": "stream",
     "text": [
      "/Users/maximekuil/Documents/Simplon/projet_assuraimant/.venv/lib/python3.11/site-packages/feature_engine/encoding/ordinal.py:208: FutureWarning: The default of observed=False is deprecated and will be changed to True in a future version of pandas. Pass observed=False to retain current behavior or observed=True to adopt the future default and silence this warning.\n",
      "  t = y.groupby(X[var]).mean()  # type: ignore\n"
     ]
    },
    {
     "data": {
      "text/html": [
       "<div>\n",
       "<style scoped>\n",
       "    .dataframe tbody tr th:only-of-type {\n",
       "        vertical-align: middle;\n",
       "    }\n",
       "\n",
       "    .dataframe tbody tr th {\n",
       "        vertical-align: top;\n",
       "    }\n",
       "\n",
       "    .dataframe thead th {\n",
       "        text-align: right;\n",
       "    }\n",
       "</style>\n",
       "<table border=\"1\" class=\"dataframe\">\n",
       "  <thead>\n",
       "    <tr style=\"text-align: right;\">\n",
       "      <th></th>\n",
       "      <th>onehotencoder__region_northwest</th>\n",
       "      <th>onehotencoder__region_southeast</th>\n",
       "      <th>onehotencoder__region_southwest</th>\n",
       "      <th>onehotencoder__region_northeast</th>\n",
       "      <th>ordinalencoder__smoker</th>\n",
       "      <th>ordinalencoder__sex</th>\n",
       "      <th>pipeline__bmi_(25.0, 30.0]</th>\n",
       "      <th>pipeline__bmi_(40.0, inf]</th>\n",
       "      <th>pipeline__bmi_(18.5, 25.0]</th>\n",
       "      <th>pipeline__bmi_(30.0, 40.0]</th>\n",
       "      <th>pipeline__bmi_(-0.001, 18.5]</th>\n",
       "      <th>remainder__age</th>\n",
       "      <th>remainder__children</th>\n",
       "    </tr>\n",
       "  </thead>\n",
       "  <tbody>\n",
       "    <tr>\n",
       "      <th>331</th>\n",
       "      <td>1</td>\n",
       "      <td>0</td>\n",
       "      <td>0</td>\n",
       "      <td>0</td>\n",
       "      <td>1</td>\n",
       "      <td>1</td>\n",
       "      <td>1</td>\n",
       "      <td>0</td>\n",
       "      <td>0</td>\n",
       "      <td>0</td>\n",
       "      <td>0</td>\n",
       "      <td>52</td>\n",
       "      <td>0</td>\n",
       "    </tr>\n",
       "    <tr>\n",
       "      <th>796</th>\n",
       "      <td>0</td>\n",
       "      <td>1</td>\n",
       "      <td>0</td>\n",
       "      <td>0</td>\n",
       "      <td>0</td>\n",
       "      <td>1</td>\n",
       "      <td>0</td>\n",
       "      <td>1</td>\n",
       "      <td>0</td>\n",
       "      <td>0</td>\n",
       "      <td>0</td>\n",
       "      <td>30</td>\n",
       "      <td>2</td>\n",
       "    </tr>\n",
       "    <tr>\n",
       "      <th>1039</th>\n",
       "      <td>1</td>\n",
       "      <td>0</td>\n",
       "      <td>0</td>\n",
       "      <td>0</td>\n",
       "      <td>0</td>\n",
       "      <td>1</td>\n",
       "      <td>1</td>\n",
       "      <td>0</td>\n",
       "      <td>0</td>\n",
       "      <td>0</td>\n",
       "      <td>0</td>\n",
       "      <td>19</td>\n",
       "      <td>2</td>\n",
       "    </tr>\n",
       "    <tr>\n",
       "      <th>261</th>\n",
       "      <td>0</td>\n",
       "      <td>1</td>\n",
       "      <td>0</td>\n",
       "      <td>0</td>\n",
       "      <td>1</td>\n",
       "      <td>0</td>\n",
       "      <td>1</td>\n",
       "      <td>0</td>\n",
       "      <td>0</td>\n",
       "      <td>0</td>\n",
       "      <td>0</td>\n",
       "      <td>20</td>\n",
       "      <td>1</td>\n",
       "    </tr>\n",
       "    <tr>\n",
       "      <th>70</th>\n",
       "      <td>0</td>\n",
       "      <td>1</td>\n",
       "      <td>0</td>\n",
       "      <td>0</td>\n",
       "      <td>1</td>\n",
       "      <td>0</td>\n",
       "      <td>0</td>\n",
       "      <td>0</td>\n",
       "      <td>1</td>\n",
       "      <td>0</td>\n",
       "      <td>0</td>\n",
       "      <td>27</td>\n",
       "      <td>0</td>\n",
       "    </tr>\n",
       "  </tbody>\n",
       "</table>\n",
       "</div>"
      ],
      "text/plain": [
       "      onehotencoder__region_northwest  onehotencoder__region_southeast  \\\n",
       "331                                 1                                0   \n",
       "796                                 0                                1   \n",
       "1039                                1                                0   \n",
       "261                                 0                                1   \n",
       "70                                  0                                1   \n",
       "\n",
       "      onehotencoder__region_southwest  onehotencoder__region_northeast  \\\n",
       "331                                 0                                0   \n",
       "796                                 0                                0   \n",
       "1039                                0                                0   \n",
       "261                                 0                                0   \n",
       "70                                  0                                0   \n",
       "\n",
       "      ordinalencoder__smoker  ordinalencoder__sex  pipeline__bmi_(25.0, 30.0]  \\\n",
       "331                        1                    1                           1   \n",
       "796                        0                    1                           0   \n",
       "1039                       0                    1                           1   \n",
       "261                        1                    0                           1   \n",
       "70                         1                    0                           0   \n",
       "\n",
       "      pipeline__bmi_(40.0, inf]  pipeline__bmi_(18.5, 25.0]  \\\n",
       "331                           0                           0   \n",
       "796                           1                           0   \n",
       "1039                          0                           0   \n",
       "261                           0                           0   \n",
       "70                            0                           1   \n",
       "\n",
       "      pipeline__bmi_(30.0, 40.0]  pipeline__bmi_(-0.001, 18.5]  \\\n",
       "331                            0                             0   \n",
       "796                            0                             0   \n",
       "1039                           0                             0   \n",
       "261                            0                             0   \n",
       "70                             0                             0   \n",
       "\n",
       "      remainder__age  remainder__children  \n",
       "331               52                    0  \n",
       "796               30                    2  \n",
       "1039              19                    2  \n",
       "261               20                    1  \n",
       "70                27                    0  "
      ]
     },
     "execution_count": 34,
     "metadata": {},
     "output_type": "execute_result"
    }
   ],
   "source": [
    "pipe_bmi = make_pipeline(\n",
    "    ArbitraryDiscretiser(binning_dict=bmi_dict, return_object=False, return_boundaries=True),\n",
    "    OneHotEncoder(variables=['bmi'])\n",
    ")\n",
    "\n",
    "transformers = make_column_transformer(\n",
    "    (OneHotEncoder(variables=['region']), ['region']),\n",
    "    (OrdinalEncoder(variables=['smoker', 'sex']), ['smoker', 'sex']),\n",
    "    (pipe_bmi, ['bmi']),\n",
    "    remainder='passthrough'\n",
    ")\n",
    "\n",
    "np.set_printoptions(threshold=np.inf)\n",
    "\n",
    "df_preprocessor = transformers.fit_transform(X_train, y_train)\n",
    "df_preprocessor.head()"
   ]
  },
  {
   "cell_type": "markdown",
   "metadata": {},
   "source": [
    "### Model fit"
   ]
  },
  {
   "cell_type": "code",
   "execution_count": 35,
   "metadata": {},
   "outputs": [
    {
     "name": "stderr",
     "output_type": "stream",
     "text": [
      "/Users/maximekuil/Documents/Simplon/projet_assuraimant/.venv/lib/python3.11/site-packages/feature_engine/encoding/ordinal.py:208: FutureWarning: The default of observed=False is deprecated and will be changed to True in a future version of pandas. Pass observed=False to retain current behavior or observed=True to adopt the future default and silence this warning.\n",
      "  t = y.groupby(X[var]).mean()  # type: ignore\n",
      "/Users/maximekuil/Documents/Simplon/projet_assuraimant/.venv/lib/python3.11/site-packages/feature_engine/encoding/ordinal.py:208: FutureWarning: The default of observed=False is deprecated and will be changed to True in a future version of pandas. Pass observed=False to retain current behavior or observed=True to adopt the future default and silence this warning.\n",
      "  t = y.groupby(X[var]).mean()  # type: ignore\n",
      "/Users/maximekuil/Documents/Simplon/projet_assuraimant/.venv/lib/python3.11/site-packages/feature_engine/encoding/ordinal.py:208: FutureWarning: The default of observed=False is deprecated and will be changed to True in a future version of pandas. Pass observed=False to retain current behavior or observed=True to adopt the future default and silence this warning.\n",
      "  t = y.groupby(X[var]).mean()  # type: ignore\n",
      "/Users/maximekuil/Documents/Simplon/projet_assuraimant/.venv/lib/python3.11/site-packages/feature_engine/encoding/ordinal.py:208: FutureWarning: The default of observed=False is deprecated and will be changed to True in a future version of pandas. Pass observed=False to retain current behavior or observed=True to adopt the future default and silence this warning.\n",
      "  t = y.groupby(X[var]).mean()  # type: ignore\n",
      "/Users/maximekuil/Documents/Simplon/projet_assuraimant/.venv/lib/python3.11/site-packages/feature_engine/encoding/ordinal.py:208: FutureWarning: The default of observed=False is deprecated and will be changed to True in a future version of pandas. Pass observed=False to retain current behavior or observed=True to adopt the future default and silence this warning.\n",
      "  t = y.groupby(X[var]).mean()  # type: ignore\n",
      "/Users/maximekuil/Documents/Simplon/projet_assuraimant/.venv/lib/python3.11/site-packages/feature_engine/encoding/ordinal.py:208: FutureWarning: The default of observed=False is deprecated and will be changed to True in a future version of pandas. Pass observed=False to retain current behavior or observed=True to adopt the future default and silence this warning.\n",
      "  t = y.groupby(X[var]).mean()  # type: ignore\n",
      "/Users/maximekuil/Documents/Simplon/projet_assuraimant/.venv/lib/python3.11/site-packages/feature_engine/encoding/ordinal.py:208: FutureWarning: The default of observed=False is deprecated and will be changed to True in a future version of pandas. Pass observed=False to retain current behavior or observed=True to adopt the future default and silence this warning.\n",
      "  t = y.groupby(X[var]).mean()  # type: ignore\n",
      "/Users/maximekuil/Documents/Simplon/projet_assuraimant/.venv/lib/python3.11/site-packages/feature_engine/encoding/ordinal.py:208: FutureWarning: The default of observed=False is deprecated and will be changed to True in a future version of pandas. Pass observed=False to retain current behavior or observed=True to adopt the future default and silence this warning.\n",
      "  t = y.groupby(X[var]).mean()  # type: ignore\n",
      "/Users/maximekuil/Documents/Simplon/projet_assuraimant/.venv/lib/python3.11/site-packages/feature_engine/encoding/ordinal.py:208: FutureWarning: The default of observed=False is deprecated and will be changed to True in a future version of pandas. Pass observed=False to retain current behavior or observed=True to adopt the future default and silence this warning.\n",
      "  t = y.groupby(X[var]).mean()  # type: ignore\n",
      "/Users/maximekuil/Documents/Simplon/projet_assuraimant/.venv/lib/python3.11/site-packages/feature_engine/encoding/ordinal.py:208: FutureWarning: The default of observed=False is deprecated and will be changed to True in a future version of pandas. Pass observed=False to retain current behavior or observed=True to adopt the future default and silence this warning.\n",
      "  t = y.groupby(X[var]).mean()  # type: ignore\n",
      "/Users/maximekuil/Documents/Simplon/projet_assuraimant/.venv/lib/python3.11/site-packages/feature_engine/encoding/ordinal.py:208: FutureWarning: The default of observed=False is deprecated and will be changed to True in a future version of pandas. Pass observed=False to retain current behavior or observed=True to adopt the future default and silence this warning.\n",
      "  t = y.groupby(X[var]).mean()  # type: ignore\n",
      "/Users/maximekuil/Documents/Simplon/projet_assuraimant/.venv/lib/python3.11/site-packages/feature_engine/encoding/ordinal.py:208: FutureWarning: The default of observed=False is deprecated and will be changed to True in a future version of pandas. Pass observed=False to retain current behavior or observed=True to adopt the future default and silence this warning.\n",
      "  t = y.groupby(X[var]).mean()  # type: ignore\n",
      "/Users/maximekuil/Documents/Simplon/projet_assuraimant/.venv/lib/python3.11/site-packages/feature_engine/encoding/ordinal.py:208: FutureWarning: The default of observed=False is deprecated and will be changed to True in a future version of pandas. Pass observed=False to retain current behavior or observed=True to adopt the future default and silence this warning.\n",
      "  t = y.groupby(X[var]).mean()  # type: ignore\n",
      "/Users/maximekuil/Documents/Simplon/projet_assuraimant/.venv/lib/python3.11/site-packages/feature_engine/encoding/ordinal.py:208: FutureWarning: The default of observed=False is deprecated and will be changed to True in a future version of pandas. Pass observed=False to retain current behavior or observed=True to adopt the future default and silence this warning.\n",
      "  t = y.groupby(X[var]).mean()  # type: ignore\n",
      "/Users/maximekuil/Documents/Simplon/projet_assuraimant/.venv/lib/python3.11/site-packages/feature_engine/encoding/ordinal.py:208: FutureWarning: The default of observed=False is deprecated and will be changed to True in a future version of pandas. Pass observed=False to retain current behavior or observed=True to adopt the future default and silence this warning.\n",
      "  t = y.groupby(X[var]).mean()  # type: ignore\n",
      "/Users/maximekuil/Documents/Simplon/projet_assuraimant/.venv/lib/python3.11/site-packages/feature_engine/encoding/ordinal.py:208: FutureWarning: The default of observed=False is deprecated and will be changed to True in a future version of pandas. Pass observed=False to retain current behavior or observed=True to adopt the future default and silence this warning.\n",
      "  t = y.groupby(X[var]).mean()  # type: ignore\n",
      "/Users/maximekuil/Documents/Simplon/projet_assuraimant/.venv/lib/python3.11/site-packages/feature_engine/encoding/ordinal.py:208: FutureWarning: The default of observed=False is deprecated and will be changed to True in a future version of pandas. Pass observed=False to retain current behavior or observed=True to adopt the future default and silence this warning.\n",
      "  t = y.groupby(X[var]).mean()  # type: ignore\n",
      "/Users/maximekuil/Documents/Simplon/projet_assuraimant/.venv/lib/python3.11/site-packages/feature_engine/encoding/ordinal.py:208: FutureWarning: The default of observed=False is deprecated and will be changed to True in a future version of pandas. Pass observed=False to retain current behavior or observed=True to adopt the future default and silence this warning.\n",
      "  t = y.groupby(X[var]).mean()  # type: ignore\n",
      "/Users/maximekuil/Documents/Simplon/projet_assuraimant/.venv/lib/python3.11/site-packages/feature_engine/encoding/ordinal.py:208: FutureWarning: The default of observed=False is deprecated and will be changed to True in a future version of pandas. Pass observed=False to retain current behavior or observed=True to adopt the future default and silence this warning.\n",
      "  t = y.groupby(X[var]).mean()  # type: ignore\n",
      "/Users/maximekuil/Documents/Simplon/projet_assuraimant/.venv/lib/python3.11/site-packages/feature_engine/encoding/ordinal.py:208: FutureWarning: The default of observed=False is deprecated and will be changed to True in a future version of pandas. Pass observed=False to retain current behavior or observed=True to adopt the future default and silence this warning.\n",
      "  t = y.groupby(X[var]).mean()  # type: ignore\n",
      "/Users/maximekuil/Documents/Simplon/projet_assuraimant/.venv/lib/python3.11/site-packages/feature_engine/encoding/ordinal.py:208: FutureWarning: The default of observed=False is deprecated and will be changed to True in a future version of pandas. Pass observed=False to retain current behavior or observed=True to adopt the future default and silence this warning.\n",
      "  t = y.groupby(X[var]).mean()  # type: ignore\n",
      "/Users/maximekuil/Documents/Simplon/projet_assuraimant/.venv/lib/python3.11/site-packages/feature_engine/encoding/ordinal.py:208: FutureWarning: The default of observed=False is deprecated and will be changed to True in a future version of pandas. Pass observed=False to retain current behavior or observed=True to adopt the future default and silence this warning.\n",
      "  t = y.groupby(X[var]).mean()  # type: ignore\n",
      "/Users/maximekuil/Documents/Simplon/projet_assuraimant/.venv/lib/python3.11/site-packages/feature_engine/encoding/ordinal.py:208: FutureWarning: The default of observed=False is deprecated and will be changed to True in a future version of pandas. Pass observed=False to retain current behavior or observed=True to adopt the future default and silence this warning.\n",
      "  t = y.groupby(X[var]).mean()  # type: ignore\n",
      "/Users/maximekuil/Documents/Simplon/projet_assuraimant/.venv/lib/python3.11/site-packages/feature_engine/encoding/ordinal.py:208: FutureWarning: The default of observed=False is deprecated and will be changed to True in a future version of pandas. Pass observed=False to retain current behavior or observed=True to adopt the future default and silence this warning.\n",
      "  t = y.groupby(X[var]).mean()  # type: ignore\n",
      "/Users/maximekuil/Documents/Simplon/projet_assuraimant/.venv/lib/python3.11/site-packages/feature_engine/encoding/ordinal.py:208: FutureWarning: The default of observed=False is deprecated and will be changed to True in a future version of pandas. Pass observed=False to retain current behavior or observed=True to adopt the future default and silence this warning.\n",
      "  t = y.groupby(X[var]).mean()  # type: ignore\n",
      "/Users/maximekuil/Documents/Simplon/projet_assuraimant/.venv/lib/python3.11/site-packages/feature_engine/encoding/ordinal.py:208: FutureWarning: The default of observed=False is deprecated and will be changed to True in a future version of pandas. Pass observed=False to retain current behavior or observed=True to adopt the future default and silence this warning.\n",
      "  t = y.groupby(X[var]).mean()  # type: ignore\n",
      "/Users/maximekuil/Documents/Simplon/projet_assuraimant/.venv/lib/python3.11/site-packages/feature_engine/encoding/ordinal.py:208: FutureWarning: The default of observed=False is deprecated and will be changed to True in a future version of pandas. Pass observed=False to retain current behavior or observed=True to adopt the future default and silence this warning.\n",
      "  t = y.groupby(X[var]).mean()  # type: ignore\n",
      "/Users/maximekuil/Documents/Simplon/projet_assuraimant/.venv/lib/python3.11/site-packages/feature_engine/encoding/ordinal.py:208: FutureWarning: The default of observed=False is deprecated and will be changed to True in a future version of pandas. Pass observed=False to retain current behavior or observed=True to adopt the future default and silence this warning.\n",
      "  t = y.groupby(X[var]).mean()  # type: ignore\n",
      "/Users/maximekuil/Documents/Simplon/projet_assuraimant/.venv/lib/python3.11/site-packages/feature_engine/encoding/ordinal.py:208: FutureWarning: The default of observed=False is deprecated and will be changed to True in a future version of pandas. Pass observed=False to retain current behavior or observed=True to adopt the future default and silence this warning.\n",
      "  t = y.groupby(X[var]).mean()  # type: ignore\n",
      "/Users/maximekuil/Documents/Simplon/projet_assuraimant/.venv/lib/python3.11/site-packages/feature_engine/encoding/ordinal.py:208: FutureWarning: The default of observed=False is deprecated and will be changed to True in a future version of pandas. Pass observed=False to retain current behavior or observed=True to adopt the future default and silence this warning.\n",
      "  t = y.groupby(X[var]).mean()  # type: ignore\n",
      "/Users/maximekuil/Documents/Simplon/projet_assuraimant/.venv/lib/python3.11/site-packages/feature_engine/encoding/ordinal.py:208: FutureWarning: The default of observed=False is deprecated and will be changed to True in a future version of pandas. Pass observed=False to retain current behavior or observed=True to adopt the future default and silence this warning.\n",
      "  t = y.groupby(X[var]).mean()  # type: ignore\n",
      "/Users/maximekuil/Documents/Simplon/projet_assuraimant/.venv/lib/python3.11/site-packages/feature_engine/encoding/ordinal.py:208: FutureWarning: The default of observed=False is deprecated and will be changed to True in a future version of pandas. Pass observed=False to retain current behavior or observed=True to adopt the future default and silence this warning.\n",
      "  t = y.groupby(X[var]).mean()  # type: ignore\n",
      "/Users/maximekuil/Documents/Simplon/projet_assuraimant/.venv/lib/python3.11/site-packages/feature_engine/encoding/ordinal.py:208: FutureWarning: The default of observed=False is deprecated and will be changed to True in a future version of pandas. Pass observed=False to retain current behavior or observed=True to adopt the future default and silence this warning.\n",
      "  t = y.groupby(X[var]).mean()  # type: ignore\n",
      "/Users/maximekuil/Documents/Simplon/projet_assuraimant/.venv/lib/python3.11/site-packages/feature_engine/encoding/ordinal.py:208: FutureWarning: The default of observed=False is deprecated and will be changed to True in a future version of pandas. Pass observed=False to retain current behavior or observed=True to adopt the future default and silence this warning.\n",
      "  t = y.groupby(X[var]).mean()  # type: ignore\n",
      "/Users/maximekuil/Documents/Simplon/projet_assuraimant/.venv/lib/python3.11/site-packages/feature_engine/encoding/ordinal.py:208: FutureWarning: The default of observed=False is deprecated and will be changed to True in a future version of pandas. Pass observed=False to retain current behavior or observed=True to adopt the future default and silence this warning.\n",
      "  t = y.groupby(X[var]).mean()  # type: ignore\n",
      "/Users/maximekuil/Documents/Simplon/projet_assuraimant/.venv/lib/python3.11/site-packages/feature_engine/encoding/ordinal.py:208: FutureWarning: The default of observed=False is deprecated and will be changed to True in a future version of pandas. Pass observed=False to retain current behavior or observed=True to adopt the future default and silence this warning.\n",
      "  t = y.groupby(X[var]).mean()  # type: ignore\n",
      "/Users/maximekuil/Documents/Simplon/projet_assuraimant/.venv/lib/python3.11/site-packages/feature_engine/encoding/ordinal.py:208: FutureWarning: The default of observed=False is deprecated and will be changed to True in a future version of pandas. Pass observed=False to retain current behavior or observed=True to adopt the future default and silence this warning.\n",
      "  t = y.groupby(X[var]).mean()  # type: ignore\n",
      "/Users/maximekuil/Documents/Simplon/projet_assuraimant/.venv/lib/python3.11/site-packages/feature_engine/encoding/ordinal.py:208: FutureWarning: The default of observed=False is deprecated and will be changed to True in a future version of pandas. Pass observed=False to retain current behavior or observed=True to adopt the future default and silence this warning.\n",
      "  t = y.groupby(X[var]).mean()  # type: ignore\n",
      "/Users/maximekuil/Documents/Simplon/projet_assuraimant/.venv/lib/python3.11/site-packages/feature_engine/encoding/ordinal.py:208: FutureWarning: The default of observed=False is deprecated and will be changed to True in a future version of pandas. Pass observed=False to retain current behavior or observed=True to adopt the future default and silence this warning.\n",
      "  t = y.groupby(X[var]).mean()  # type: ignore\n",
      "/Users/maximekuil/Documents/Simplon/projet_assuraimant/.venv/lib/python3.11/site-packages/feature_engine/encoding/ordinal.py:208: FutureWarning: The default of observed=False is deprecated and will be changed to True in a future version of pandas. Pass observed=False to retain current behavior or observed=True to adopt the future default and silence this warning.\n",
      "  t = y.groupby(X[var]).mean()  # type: ignore\n",
      "/Users/maximekuil/Documents/Simplon/projet_assuraimant/.venv/lib/python3.11/site-packages/feature_engine/encoding/ordinal.py:208: FutureWarning: The default of observed=False is deprecated and will be changed to True in a future version of pandas. Pass observed=False to retain current behavior or observed=True to adopt the future default and silence this warning.\n",
      "  t = y.groupby(X[var]).mean()  # type: ignore\n",
      "/Users/maximekuil/Documents/Simplon/projet_assuraimant/.venv/lib/python3.11/site-packages/feature_engine/encoding/ordinal.py:208: FutureWarning: The default of observed=False is deprecated and will be changed to True in a future version of pandas. Pass observed=False to retain current behavior or observed=True to adopt the future default and silence this warning.\n",
      "  t = y.groupby(X[var]).mean()  # type: ignore\n",
      "/Users/maximekuil/Documents/Simplon/projet_assuraimant/.venv/lib/python3.11/site-packages/feature_engine/encoding/ordinal.py:208: FutureWarning: The default of observed=False is deprecated and will be changed to True in a future version of pandas. Pass observed=False to retain current behavior or observed=True to adopt the future default and silence this warning.\n",
      "  t = y.groupby(X[var]).mean()  # type: ignore\n",
      "/Users/maximekuil/Documents/Simplon/projet_assuraimant/.venv/lib/python3.11/site-packages/feature_engine/encoding/ordinal.py:208: FutureWarning: The default of observed=False is deprecated and will be changed to True in a future version of pandas. Pass observed=False to retain current behavior or observed=True to adopt the future default and silence this warning.\n",
      "  t = y.groupby(X[var]).mean()  # type: ignore\n",
      "/Users/maximekuil/Documents/Simplon/projet_assuraimant/.venv/lib/python3.11/site-packages/feature_engine/encoding/ordinal.py:208: FutureWarning: The default of observed=False is deprecated and will be changed to True in a future version of pandas. Pass observed=False to retain current behavior or observed=True to adopt the future default and silence this warning.\n",
      "  t = y.groupby(X[var]).mean()  # type: ignore\n",
      "/Users/maximekuil/Documents/Simplon/projet_assuraimant/.venv/lib/python3.11/site-packages/feature_engine/encoding/ordinal.py:208: FutureWarning: The default of observed=False is deprecated and will be changed to True in a future version of pandas. Pass observed=False to retain current behavior or observed=True to adopt the future default and silence this warning.\n",
      "  t = y.groupby(X[var]).mean()  # type: ignore\n",
      "/Users/maximekuil/Documents/Simplon/projet_assuraimant/.venv/lib/python3.11/site-packages/feature_engine/encoding/ordinal.py:208: FutureWarning: The default of observed=False is deprecated and will be changed to True in a future version of pandas. Pass observed=False to retain current behavior or observed=True to adopt the future default and silence this warning.\n",
      "  t = y.groupby(X[var]).mean()  # type: ignore\n",
      "/Users/maximekuil/Documents/Simplon/projet_assuraimant/.venv/lib/python3.11/site-packages/feature_engine/encoding/ordinal.py:208: FutureWarning: The default of observed=False is deprecated and will be changed to True in a future version of pandas. Pass observed=False to retain current behavior or observed=True to adopt the future default and silence this warning.\n",
      "  t = y.groupby(X[var]).mean()  # type: ignore\n",
      "/Users/maximekuil/Documents/Simplon/projet_assuraimant/.venv/lib/python3.11/site-packages/feature_engine/encoding/ordinal.py:208: FutureWarning: The default of observed=False is deprecated and will be changed to True in a future version of pandas. Pass observed=False to retain current behavior or observed=True to adopt the future default and silence this warning.\n",
      "  t = y.groupby(X[var]).mean()  # type: ignore\n",
      "/Users/maximekuil/Documents/Simplon/projet_assuraimant/.venv/lib/python3.11/site-packages/feature_engine/encoding/ordinal.py:208: FutureWarning: The default of observed=False is deprecated and will be changed to True in a future version of pandas. Pass observed=False to retain current behavior or observed=True to adopt the future default and silence this warning.\n",
      "  t = y.groupby(X[var]).mean()  # type: ignore\n",
      "/Users/maximekuil/Documents/Simplon/projet_assuraimant/.venv/lib/python3.11/site-packages/feature_engine/encoding/ordinal.py:208: FutureWarning: The default of observed=False is deprecated and will be changed to True in a future version of pandas. Pass observed=False to retain current behavior or observed=True to adopt the future default and silence this warning.\n",
      "  t = y.groupby(X[var]).mean()  # type: ignore\n",
      "/Users/maximekuil/Documents/Simplon/projet_assuraimant/.venv/lib/python3.11/site-packages/feature_engine/encoding/ordinal.py:208: FutureWarning: The default of observed=False is deprecated and will be changed to True in a future version of pandas. Pass observed=False to retain current behavior or observed=True to adopt the future default and silence this warning.\n",
      "  t = y.groupby(X[var]).mean()  # type: ignore\n",
      "/Users/maximekuil/Documents/Simplon/projet_assuraimant/.venv/lib/python3.11/site-packages/feature_engine/encoding/ordinal.py:208: FutureWarning: The default of observed=False is deprecated and will be changed to True in a future version of pandas. Pass observed=False to retain current behavior or observed=True to adopt the future default and silence this warning.\n",
      "  t = y.groupby(X[var]).mean()  # type: ignore\n",
      "/Users/maximekuil/Documents/Simplon/projet_assuraimant/.venv/lib/python3.11/site-packages/feature_engine/encoding/ordinal.py:208: FutureWarning: The default of observed=False is deprecated and will be changed to True in a future version of pandas. Pass observed=False to retain current behavior or observed=True to adopt the future default and silence this warning.\n",
      "  t = y.groupby(X[var]).mean()  # type: ignore\n",
      "/Users/maximekuil/Documents/Simplon/projet_assuraimant/.venv/lib/python3.11/site-packages/feature_engine/encoding/ordinal.py:208: FutureWarning: The default of observed=False is deprecated and will be changed to True in a future version of pandas. Pass observed=False to retain current behavior or observed=True to adopt the future default and silence this warning.\n",
      "  t = y.groupby(X[var]).mean()  # type: ignore\n",
      "/Users/maximekuil/Documents/Simplon/projet_assuraimant/.venv/lib/python3.11/site-packages/feature_engine/encoding/ordinal.py:208: FutureWarning: The default of observed=False is deprecated and will be changed to True in a future version of pandas. Pass observed=False to retain current behavior or observed=True to adopt the future default and silence this warning.\n",
      "  t = y.groupby(X[var]).mean()  # type: ignore\n",
      "/Users/maximekuil/Documents/Simplon/projet_assuraimant/.venv/lib/python3.11/site-packages/feature_engine/encoding/ordinal.py:208: FutureWarning: The default of observed=False is deprecated and will be changed to True in a future version of pandas. Pass observed=False to retain current behavior or observed=True to adopt the future default and silence this warning.\n",
      "  t = y.groupby(X[var]).mean()  # type: ignore\n",
      "/Users/maximekuil/Documents/Simplon/projet_assuraimant/.venv/lib/python3.11/site-packages/feature_engine/encoding/ordinal.py:208: FutureWarning: The default of observed=False is deprecated and will be changed to True in a future version of pandas. Pass observed=False to retain current behavior or observed=True to adopt the future default and silence this warning.\n",
      "  t = y.groupby(X[var]).mean()  # type: ignore\n",
      "/Users/maximekuil/Documents/Simplon/projet_assuraimant/.venv/lib/python3.11/site-packages/feature_engine/encoding/ordinal.py:208: FutureWarning: The default of observed=False is deprecated and will be changed to True in a future version of pandas. Pass observed=False to retain current behavior or observed=True to adopt the future default and silence this warning.\n",
      "  t = y.groupby(X[var]).mean()  # type: ignore\n",
      "/Users/maximekuil/Documents/Simplon/projet_assuraimant/.venv/lib/python3.11/site-packages/feature_engine/encoding/ordinal.py:208: FutureWarning: The default of observed=False is deprecated and will be changed to True in a future version of pandas. Pass observed=False to retain current behavior or observed=True to adopt the future default and silence this warning.\n",
      "  t = y.groupby(X[var]).mean()  # type: ignore\n",
      "/Users/maximekuil/Documents/Simplon/projet_assuraimant/.venv/lib/python3.11/site-packages/feature_engine/encoding/ordinal.py:208: FutureWarning: The default of observed=False is deprecated and will be changed to True in a future version of pandas. Pass observed=False to retain current behavior or observed=True to adopt the future default and silence this warning.\n",
      "  t = y.groupby(X[var]).mean()  # type: ignore\n"
     ]
    },
    {
     "data": {
      "text/plain": [
       "0.8582195912844792"
      ]
     },
     "execution_count": 35,
     "metadata": {},
     "output_type": "execute_result"
    }
   ],
   "source": [
    "from sklearn.model_selection import GridSearchCV\n",
    "\n",
    "preprocessor = make_pipeline(\n",
    "                    transformers, \n",
    "                    PolynomialFeatures(interaction_only=False), \n",
    "                    StandardScaler(), \n",
    "                    Lasso(max_iter=1000000, tol=1e-4)\n",
    "                )\n",
    "#print(preprocessor.get_params())\n",
    "grid = GridSearchCV(preprocessor, {'lasso__alpha': alphas}, cv=3)\n",
    "grid.fit(X_train, y_train)\n",
    "grid.best_score_"
   ]
  },
  {
   "cell_type": "markdown",
   "metadata": {},
   "source": [
    "### Sauvegarde du model"
   ]
  },
  {
   "cell_type": "code",
   "execution_count": 39,
   "metadata": {},
   "outputs": [],
   "source": [
    "import pickle\n",
    "model_path = 'data/model_grid.pickle'\n",
    "save_comp = {\n",
    "    'model': grid.best_estimator_\n",
    "}\n",
    "pickle.dump(save_comp, open(model_path, 'wb')) # Save model dans data"
   ]
  },
  {
   "cell_type": "markdown",
   "metadata": {},
   "source": [
    "## LassoCV"
   ]
  },
  {
   "cell_type": "markdown",
   "metadata": {},
   "source": [
    "### Pipeline"
   ]
  },
  {
   "cell_type": "code",
   "execution_count": 36,
   "metadata": {},
   "outputs": [
    {
     "name": "stderr",
     "output_type": "stream",
     "text": [
      "/Users/maximekuil/Documents/Simplon/projet_assuraimant/.venv/lib/python3.11/site-packages/feature_engine/encoding/ordinal.py:208: FutureWarning: The default of observed=False is deprecated and will be changed to True in a future version of pandas. Pass observed=False to retain current behavior or observed=True to adopt the future default and silence this warning.\n",
      "  t = y.groupby(X[var]).mean()  # type: ignore\n"
     ]
    },
    {
     "data": {
      "text/html": [
       "<div>\n",
       "<style scoped>\n",
       "    .dataframe tbody tr th:only-of-type {\n",
       "        vertical-align: middle;\n",
       "    }\n",
       "\n",
       "    .dataframe tbody tr th {\n",
       "        vertical-align: top;\n",
       "    }\n",
       "\n",
       "    .dataframe thead th {\n",
       "        text-align: right;\n",
       "    }\n",
       "</style>\n",
       "<table border=\"1\" class=\"dataframe\">\n",
       "  <thead>\n",
       "    <tr style=\"text-align: right;\">\n",
       "      <th></th>\n",
       "      <th>1</th>\n",
       "      <th>age</th>\n",
       "      <th>sex</th>\n",
       "      <th>children</th>\n",
       "      <th>smoker</th>\n",
       "      <th>region_northwest</th>\n",
       "      <th>region_southeast</th>\n",
       "      <th>region_southwest</th>\n",
       "      <th>region_northeast</th>\n",
       "      <th>bmi_(25.0, 30.0]</th>\n",
       "      <th>...</th>\n",
       "      <th>bmi_(40.0, inf]^2</th>\n",
       "      <th>bmi_(40.0, inf] bmi_(18.5, 25.0]</th>\n",
       "      <th>bmi_(40.0, inf] bmi_(30.0, 40.0]</th>\n",
       "      <th>bmi_(40.0, inf] bmi_(-0.001, 18.5]</th>\n",
       "      <th>bmi_(18.5, 25.0]^2</th>\n",
       "      <th>bmi_(18.5, 25.0] bmi_(30.0, 40.0]</th>\n",
       "      <th>bmi_(18.5, 25.0] bmi_(-0.001, 18.5]</th>\n",
       "      <th>bmi_(30.0, 40.0]^2</th>\n",
       "      <th>bmi_(30.0, 40.0] bmi_(-0.001, 18.5]</th>\n",
       "      <th>bmi_(-0.001, 18.5]^2</th>\n",
       "    </tr>\n",
       "  </thead>\n",
       "  <tbody>\n",
       "    <tr>\n",
       "      <th>331</th>\n",
       "      <td>0.0</td>\n",
       "      <td>0.739130</td>\n",
       "      <td>1.0</td>\n",
       "      <td>0.0</td>\n",
       "      <td>1.0</td>\n",
       "      <td>1.0</td>\n",
       "      <td>0.0</td>\n",
       "      <td>0.0</td>\n",
       "      <td>0.0</td>\n",
       "      <td>1.0</td>\n",
       "      <td>...</td>\n",
       "      <td>0.0</td>\n",
       "      <td>0.0</td>\n",
       "      <td>0.0</td>\n",
       "      <td>0.0</td>\n",
       "      <td>0.0</td>\n",
       "      <td>0.0</td>\n",
       "      <td>0.0</td>\n",
       "      <td>0.0</td>\n",
       "      <td>0.0</td>\n",
       "      <td>0.0</td>\n",
       "    </tr>\n",
       "    <tr>\n",
       "      <th>796</th>\n",
       "      <td>0.0</td>\n",
       "      <td>0.260870</td>\n",
       "      <td>1.0</td>\n",
       "      <td>0.4</td>\n",
       "      <td>0.0</td>\n",
       "      <td>0.0</td>\n",
       "      <td>1.0</td>\n",
       "      <td>0.0</td>\n",
       "      <td>0.0</td>\n",
       "      <td>0.0</td>\n",
       "      <td>...</td>\n",
       "      <td>1.0</td>\n",
       "      <td>0.0</td>\n",
       "      <td>0.0</td>\n",
       "      <td>0.0</td>\n",
       "      <td>0.0</td>\n",
       "      <td>0.0</td>\n",
       "      <td>0.0</td>\n",
       "      <td>0.0</td>\n",
       "      <td>0.0</td>\n",
       "      <td>0.0</td>\n",
       "    </tr>\n",
       "    <tr>\n",
       "      <th>1039</th>\n",
       "      <td>0.0</td>\n",
       "      <td>0.021739</td>\n",
       "      <td>1.0</td>\n",
       "      <td>0.4</td>\n",
       "      <td>0.0</td>\n",
       "      <td>1.0</td>\n",
       "      <td>0.0</td>\n",
       "      <td>0.0</td>\n",
       "      <td>0.0</td>\n",
       "      <td>1.0</td>\n",
       "      <td>...</td>\n",
       "      <td>0.0</td>\n",
       "      <td>0.0</td>\n",
       "      <td>0.0</td>\n",
       "      <td>0.0</td>\n",
       "      <td>0.0</td>\n",
       "      <td>0.0</td>\n",
       "      <td>0.0</td>\n",
       "      <td>0.0</td>\n",
       "      <td>0.0</td>\n",
       "      <td>0.0</td>\n",
       "    </tr>\n",
       "    <tr>\n",
       "      <th>261</th>\n",
       "      <td>0.0</td>\n",
       "      <td>0.043478</td>\n",
       "      <td>0.0</td>\n",
       "      <td>0.2</td>\n",
       "      <td>1.0</td>\n",
       "      <td>0.0</td>\n",
       "      <td>1.0</td>\n",
       "      <td>0.0</td>\n",
       "      <td>0.0</td>\n",
       "      <td>1.0</td>\n",
       "      <td>...</td>\n",
       "      <td>0.0</td>\n",
       "      <td>0.0</td>\n",
       "      <td>0.0</td>\n",
       "      <td>0.0</td>\n",
       "      <td>0.0</td>\n",
       "      <td>0.0</td>\n",
       "      <td>0.0</td>\n",
       "      <td>0.0</td>\n",
       "      <td>0.0</td>\n",
       "      <td>0.0</td>\n",
       "    </tr>\n",
       "    <tr>\n",
       "      <th>70</th>\n",
       "      <td>0.0</td>\n",
       "      <td>0.195652</td>\n",
       "      <td>0.0</td>\n",
       "      <td>0.0</td>\n",
       "      <td>1.0</td>\n",
       "      <td>0.0</td>\n",
       "      <td>1.0</td>\n",
       "      <td>0.0</td>\n",
       "      <td>0.0</td>\n",
       "      <td>0.0</td>\n",
       "      <td>...</td>\n",
       "      <td>0.0</td>\n",
       "      <td>0.0</td>\n",
       "      <td>0.0</td>\n",
       "      <td>0.0</td>\n",
       "      <td>1.0</td>\n",
       "      <td>0.0</td>\n",
       "      <td>0.0</td>\n",
       "      <td>0.0</td>\n",
       "      <td>0.0</td>\n",
       "      <td>0.0</td>\n",
       "    </tr>\n",
       "  </tbody>\n",
       "</table>\n",
       "<p>5 rows × 105 columns</p>\n",
       "</div>"
      ],
      "text/plain": [
       "        1       age  sex  children  smoker  region_northwest  \\\n",
       "331   0.0  0.739130  1.0       0.0     1.0               1.0   \n",
       "796   0.0  0.260870  1.0       0.4     0.0               0.0   \n",
       "1039  0.0  0.021739  1.0       0.4     0.0               1.0   \n",
       "261   0.0  0.043478  0.0       0.2     1.0               0.0   \n",
       "70    0.0  0.195652  0.0       0.0     1.0               0.0   \n",
       "\n",
       "      region_southeast  region_southwest  region_northeast  bmi_(25.0, 30.0]  \\\n",
       "331                0.0               0.0               0.0               1.0   \n",
       "796                1.0               0.0               0.0               0.0   \n",
       "1039               0.0               0.0               0.0               1.0   \n",
       "261                1.0               0.0               0.0               1.0   \n",
       "70                 1.0               0.0               0.0               0.0   \n",
       "\n",
       "      ...  bmi_(40.0, inf]^2  bmi_(40.0, inf] bmi_(18.5, 25.0]  \\\n",
       "331   ...                0.0                               0.0   \n",
       "796   ...                1.0                               0.0   \n",
       "1039  ...                0.0                               0.0   \n",
       "261   ...                0.0                               0.0   \n",
       "70    ...                0.0                               0.0   \n",
       "\n",
       "      bmi_(40.0, inf] bmi_(30.0, 40.0]  bmi_(40.0, inf] bmi_(-0.001, 18.5]  \\\n",
       "331                                0.0                                 0.0   \n",
       "796                                0.0                                 0.0   \n",
       "1039                               0.0                                 0.0   \n",
       "261                                0.0                                 0.0   \n",
       "70                                 0.0                                 0.0   \n",
       "\n",
       "      bmi_(18.5, 25.0]^2  bmi_(18.5, 25.0] bmi_(30.0, 40.0]  \\\n",
       "331                  0.0                                0.0   \n",
       "796                  0.0                                0.0   \n",
       "1039                 0.0                                0.0   \n",
       "261                  0.0                                0.0   \n",
       "70                   1.0                                0.0   \n",
       "\n",
       "      bmi_(18.5, 25.0] bmi_(-0.001, 18.5]  bmi_(30.0, 40.0]^2  \\\n",
       "331                                   0.0                 0.0   \n",
       "796                                   0.0                 0.0   \n",
       "1039                                  0.0                 0.0   \n",
       "261                                   0.0                 0.0   \n",
       "70                                    0.0                 0.0   \n",
       "\n",
       "      bmi_(30.0, 40.0] bmi_(-0.001, 18.5]  bmi_(-0.001, 18.5]^2  \n",
       "331                                   0.0                   0.0  \n",
       "796                                   0.0                   0.0  \n",
       "1039                                  0.0                   0.0  \n",
       "261                                   0.0                   0.0  \n",
       "70                                    0.0                   0.0  \n",
       "\n",
       "[5 rows x 105 columns]"
      ]
     },
     "execution_count": 36,
     "metadata": {},
     "output_type": "execute_result"
    }
   ],
   "source": [
    "transformers = [\n",
    "    ('OHE', OneHotEncoder(variables=['region'])),\n",
    "    ('smoker', OrdinalEncoder(variables=['smoker', 'sex'])),\n",
    "    ('kbins bmi', ArbitraryDiscretiser(binning_dict=bmi_dict, return_object=False, return_boundaries=True)),\n",
    "    ('ohe bmi', OneHotEncoder(variables=['bmi'])),\n",
    "    ('poly', PolynomialFeatures(interaction_only=False)),\n",
    "    ('scaler', MinMaxScaler())\n",
    "]\n",
    "\n",
    "preprocessor = Pipeline(transformers)\n",
    "preprocessor\n",
    "df_preprocessor = preprocessor.fit_transform(X_train, y_train)\n",
    "df_preprocessor.head()"
   ]
  },
  {
   "cell_type": "markdown",
   "metadata": {},
   "source": [
    "### Model fit"
   ]
  },
  {
   "cell_type": "code",
   "execution_count": 37,
   "metadata": {},
   "outputs": [
    {
     "name": "stderr",
     "output_type": "stream",
     "text": [
      "/Users/maximekuil/Documents/Simplon/projet_assuraimant/.venv/lib/python3.11/site-packages/feature_engine/encoding/ordinal.py:208: FutureWarning: The default of observed=False is deprecated and will be changed to True in a future version of pandas. Pass observed=False to retain current behavior or observed=True to adopt the future default and silence this warning.\n",
      "  t = y.groupby(X[var]).mean()  # type: ignore\n"
     ]
    },
    {
     "name": "stdout",
     "output_type": "stream",
     "text": [
      "Score : 0.8917159503701766\n",
      "RMSE : 4060.562331993532\n",
      "alpha : 26.363157894736844\n"
     ]
    }
   ],
   "source": [
    "transformers.append(('lasso', LassoCV(alphas=alphas, fit_intercept=False, max_iter=1000000, cv=5)))\n",
    "\n",
    "pipe = Pipeline(transformers)\n",
    "pipe.fit(X_train, y_train)\n",
    "score = pipe.score(X_test, y_test)\n",
    "predictions = pipe.predict(X_test)\n",
    "mse = mean_squared_error(y_test, predictions, squared=False)\n",
    "print('Score :', score)\n",
    "print('RMSE :', mse)\n",
    "print('alpha :', pipe.named_steps.lasso.alpha_)"
   ]
  },
  {
   "cell_type": "markdown",
   "metadata": {},
   "source": [
    "### Sauvegarde du model"
   ]
  },
  {
   "cell_type": "code",
   "execution_count": null,
   "metadata": {},
   "outputs": [],
   "source": [
    "import pickle\n",
    "model_path = 'data/model_cv.pickle'\n",
    "save_comp = {\n",
    "    'model': preprocessor\n",
    "}\n",
    "pickle.dump(save_comp, open(model_path, 'wb')) # Save model dans data"
   ]
  },
  {
   "cell_type": "markdown",
   "metadata": {},
   "source": [
    "### Graph"
   ]
  },
  {
   "cell_type": "code",
   "execution_count": 22,
   "metadata": {},
   "outputs": [
    {
     "data": {
      "text/plain": [
       "<matplotlib.legend.Legend at 0x28a416390>"
      ]
     },
     "execution_count": 22,
     "metadata": {},
     "output_type": "execute_result"
    },
    {
     "data": {
      "image/png": "[encoded data removed]",
      "text/plain": [
       "<Figure size 640x480 with 1 Axes>"
      ]
     },
     "metadata": {},
     "output_type": "display_data"
    }
   ],
   "source": [
    "predictions_test = pipe.predict(X_test)\n",
    "predictions_train = pipe.predict(X_train)\n",
    "\n",
    "plt.scatter(predictions_train, y_train, color='blue', alpha=.3, label='observations')\n",
    "plt.scatter(predictions_test, y_test, color='red', label='predictions')\n",
    "plt.legend()"
   ]
  },
  {
   "cell_type": "markdown",
   "metadata": {},
   "source": [
    "# Cook distance"
   ]
  },
  {
   "cell_type": "code",
   "execution_count": null,
   "metadata": {},
   "outputs": [],
   "source": [
    "# np.set_printoptions(suppress=True)\n",
    "\n",
    "# #create instance of influence\n",
    "# influence = preprocessor.named_steps.lasso.get_influence()\n",
    "\n",
    "# #obtain Cook's distance for each observation\n",
    "# cooks = influence.cooks_distance\n",
    "\n",
    "# #display Cook's distances\n",
    "# print(cooks)"
   ]
  },
  {
   "cell_type": "markdown",
   "metadata": {},
   "source": [
    "### Discrétisation de bmi pour la démo"
   ]
  },
  {
   "cell_type": "code",
   "execution_count": 38,
   "metadata": {},
   "outputs": [
    {
     "data": {
      "image/png": "[encoded data removed]",
      "text/plain": [
       "<Figure size 640x480 with 1 Axes>"
      ]
     },
     "metadata": {},
     "output_type": "display_data"
    }
   ],
   "source": [
    "from feature_engine.discretisation import ArbitraryDiscretiser\n",
    "\n",
    "bmi_dict = {'bmi': [0, 18.5, 25, 30, 40, np.Inf]}\n",
    "transformer = ArbitraryDiscretiser(binning_dict=bmi_dict, return_object=False, return_boundaries=True)\n",
    "\n",
    "bmi = transformer.fit_transform(X_train)\n",
    "bmi['bmi'].value_counts(ascending=True).sort_index().plot.bar(rot=0)\n",
    "plt.xlabel('BMI - bins')\n",
    "plt.ylabel('Number of observations')\n",
    "plt.title('Discretised BMI')\n",
    "plt.show()"
   ]
  },
  {
   "cell_type": "markdown",
   "metadata": {},
   "source": [
    "### chargement du model et prédiction"
   ]
  },
  {
   "cell_type": "code",
   "execution_count": null,
   "metadata": {},
   "outputs": [
    {
     "name": "stdout",
     "output_type": "stream",
     "text": [
      "Score : 0.8901327360133643\n",
      "RMSE : 4090.1392284991343\n"
     ]
    },
    {
     "data": {
      "text/plain": [
       "array([9976.42632004])"
      ]
     },
     "execution_count": 417,
     "metadata": {},
     "output_type": "execute_result"
    }
   ],
   "source": [
    "m = pickle.load(open(model_path, 'rb'))\n",
    "model = m['model']\n",
    "\n",
    "predictions = model.predict(X_test)\n",
    "mse = mean_squared_error(y_test, predictions, squared=False)\n",
    "print('Score :', score)\n",
    "print('RMSE :', mse)\n",
    "\n",
    "# test predict sur un individu\n",
    "\n",
    "t = pd.DataFrame([['no', 'male', 18, 15.0, 0, 'northeast']], columns = ['smoker', 'sex', 'age', 'bmi', 'children', 'region'])\n",
    "model.predict(t)\n"
   ]
  },
  {
   "cell_type": "markdown",
   "metadata": {},
   "source": [
    "## Regression linéaire"
   ]
  },
  {
   "cell_type": "code",
   "execution_count": null,
   "metadata": {},
   "outputs": [
    {
     "ename": "TypeError",
     "evalue": "All intermediate steps should be transformers and implement fit and transform or be the string 'passthrough' 'Pipeline(steps=[('OHE', OneHotEncoder(variables=['region'])),\n                ('smoker', OrdinalEncoder(variables=['smoker', 'sex'])),\n                ('bmi_smoker',\n                 MathFeatures(func='prod', variables=['bmi', 'smoker'])),\n                ('kbins bmi',\n                 ArbitraryDiscretiser(binning_dict={'bmi': [0, 18.5, 25, 30, 40,\n                                                            inf]},\n                                      return_boundaries=True)),\n                ('ohe bmi', OneHotEncoder(variables=['bmi'])),\n                ('poly', PolynomialFeatures()), ('scaler', MinMaxScaler()),\n                ('model',\n                 LassoCV(alphas=array([ 0.1       ,  2.72631579,  5.35263158,  7.97894737, 10.60526316,\n       13.23157895, 15.85789474, 18.48421053, 21.11052632, 23.73684211,\n       26.36315789, 28.98947368, 31.61578947, 34.24210526, 36.86842105,\n       39.49473684, 42.12105263, 44.74736842, 47.37368421, 50.        ]),\n                         fit_intercept=False, max_iter=1000000))])' (type <class 'sklearn.pipeline.Pipeline'>) doesn't",
     "output_type": "error",
     "traceback": [
      "\u001b[0;31m---------------------------------------------------------------------------\u001b[0m",
      "\u001b[0;31mTypeError\u001b[0m                                 Traceback (most recent call last)",
      "Cell \u001b[0;32mIn[418], line 4\u001b[0m\n\u001b[1;32m      1\u001b[0m \u001b[38;5;28;01mfrom\u001b[39;00m \u001b[38;5;21;01msklearn\u001b[39;00m\u001b[38;5;21;01m.\u001b[39;00m\u001b[38;5;21;01mlinear_model\u001b[39;00m \u001b[38;5;28;01mimport\u001b[39;00m LinearRegression\n\u001b[1;32m      3\u001b[0m model \u001b[38;5;241m=\u001b[39m make_pipeline(preprocessor, LinearRegression())\n\u001b[0;32m----> 4\u001b[0m \u001b[43mmodel\u001b[49m\u001b[38;5;241;43m.\u001b[39;49m\u001b[43mfit\u001b[49m\u001b[43m(\u001b[49m\u001b[43mX_train\u001b[49m\u001b[43m,\u001b[49m\u001b[43m \u001b[49m\u001b[43my_train\u001b[49m\u001b[43m)\u001b[49m\n\u001b[1;32m      5\u001b[0m score \u001b[38;5;241m=\u001b[39m model\u001b[38;5;241m.\u001b[39mscore(X_test, y_test)\n\u001b[1;32m      7\u001b[0m predictions \u001b[38;5;241m=\u001b[39m model\u001b[38;5;241m.\u001b[39mpredict(X_test)\n",
      "File \u001b[0;32m~/Documents/Simplon/projet_assuraimant/.venv/lib/python3.11/site-packages/sklearn/base.py:1152\u001b[0m, in \u001b[0;36m_fit_context.<locals>.decorator.<locals>.wrapper\u001b[0;34m(estimator, *args, **kwargs)\u001b[0m\n\u001b[1;32m   1145\u001b[0m     estimator\u001b[38;5;241m.\u001b[39m_validate_params()\n\u001b[1;32m   1147\u001b[0m \u001b[38;5;28;01mwith\u001b[39;00m config_context(\n\u001b[1;32m   1148\u001b[0m     skip_parameter_validation\u001b[38;5;241m=\u001b[39m(\n\u001b[1;32m   1149\u001b[0m         prefer_skip_nested_validation \u001b[38;5;129;01mor\u001b[39;00m global_skip_validation\n\u001b[1;32m   1150\u001b[0m     )\n\u001b[1;32m   1151\u001b[0m ):\n\u001b[0;32m-> 1152\u001b[0m     \u001b[38;5;28;01mreturn\u001b[39;00m \u001b[43mfit_method\u001b[49m\u001b[43m(\u001b[49m\u001b[43mestimator\u001b[49m\u001b[43m,\u001b[49m\u001b[43m \u001b[49m\u001b[38;5;241;43m*\u001b[39;49m\u001b[43margs\u001b[49m\u001b[43m,\u001b[49m\u001b[43m \u001b[49m\u001b[38;5;241;43m*\u001b[39;49m\u001b[38;5;241;43m*\u001b[39;49m\u001b[43mkwargs\u001b[49m\u001b[43m)\u001b[49m\n",
      "File \u001b[0;32m~/Documents/Simplon/projet_assuraimant/.venv/lib/python3.11/site-packages/sklearn/pipeline.py:423\u001b[0m, in \u001b[0;36mPipeline.fit\u001b[0;34m(self, X, y, **fit_params)\u001b[0m\n\u001b[1;32m    397\u001b[0m \u001b[38;5;250m\u001b[39m\u001b[38;5;124;03m\"\"\"Fit the model.\u001b[39;00m\n\u001b[1;32m    398\u001b[0m \n\u001b[1;32m    399\u001b[0m \u001b[38;5;124;03mFit all the transformers one after the other and transform the\u001b[39;00m\n\u001b[0;32m   (...)\u001b[0m\n\u001b[1;32m    420\u001b[0m \u001b[38;5;124;03m    Pipeline with fitted steps.\u001b[39;00m\n\u001b[1;32m    421\u001b[0m \u001b[38;5;124;03m\"\"\"\u001b[39;00m\n\u001b[1;32m    422\u001b[0m fit_params_steps \u001b[38;5;241m=\u001b[39m \u001b[38;5;28mself\u001b[39m\u001b[38;5;241m.\u001b[39m_check_fit_params(\u001b[38;5;241m*\u001b[39m\u001b[38;5;241m*\u001b[39mfit_params)\n\u001b[0;32m--> 423\u001b[0m Xt \u001b[38;5;241m=\u001b[39m \u001b[38;5;28;43mself\u001b[39;49m\u001b[38;5;241;43m.\u001b[39;49m\u001b[43m_fit\u001b[49m\u001b[43m(\u001b[49m\u001b[43mX\u001b[49m\u001b[43m,\u001b[49m\u001b[43m \u001b[49m\u001b[43my\u001b[49m\u001b[43m,\u001b[49m\u001b[43m \u001b[49m\u001b[38;5;241;43m*\u001b[39;49m\u001b[38;5;241;43m*\u001b[39;49m\u001b[43mfit_params_steps\u001b[49m\u001b[43m)\u001b[49m\n\u001b[1;32m    424\u001b[0m \u001b[38;5;28;01mwith\u001b[39;00m _print_elapsed_time(\u001b[38;5;124m\"\u001b[39m\u001b[38;5;124mPipeline\u001b[39m\u001b[38;5;124m\"\u001b[39m, \u001b[38;5;28mself\u001b[39m\u001b[38;5;241m.\u001b[39m_log_message(\u001b[38;5;28mlen\u001b[39m(\u001b[38;5;28mself\u001b[39m\u001b[38;5;241m.\u001b[39msteps) \u001b[38;5;241m-\u001b[39m \u001b[38;5;241m1\u001b[39m)):\n\u001b[1;32m    425\u001b[0m     \u001b[38;5;28;01mif\u001b[39;00m \u001b[38;5;28mself\u001b[39m\u001b[38;5;241m.\u001b[39m_final_estimator \u001b[38;5;241m!=\u001b[39m \u001b[38;5;124m\"\u001b[39m\u001b[38;5;124mpassthrough\u001b[39m\u001b[38;5;124m\"\u001b[39m:\n",
      "File \u001b[0;32m~/Documents/Simplon/projet_assuraimant/.venv/lib/python3.11/site-packages/sklearn/pipeline.py:357\u001b[0m, in \u001b[0;36mPipeline._fit\u001b[0;34m(self, X, y, **fit_params_steps)\u001b[0m\n\u001b[1;32m    354\u001b[0m \u001b[38;5;28;01mdef\u001b[39;00m \u001b[38;5;21m_fit\u001b[39m(\u001b[38;5;28mself\u001b[39m, X, y\u001b[38;5;241m=\u001b[39m\u001b[38;5;28;01mNone\u001b[39;00m, \u001b[38;5;241m*\u001b[39m\u001b[38;5;241m*\u001b[39mfit_params_steps):\n\u001b[1;32m    355\u001b[0m     \u001b[38;5;66;03m# shallow copy of steps - this should really be steps_\u001b[39;00m\n\u001b[1;32m    356\u001b[0m     \u001b[38;5;28mself\u001b[39m\u001b[38;5;241m.\u001b[39msteps \u001b[38;5;241m=\u001b[39m \u001b[38;5;28mlist\u001b[39m(\u001b[38;5;28mself\u001b[39m\u001b[38;5;241m.\u001b[39msteps)\n\u001b[0;32m--> 357\u001b[0m     \u001b[38;5;28;43mself\u001b[39;49m\u001b[38;5;241;43m.\u001b[39;49m\u001b[43m_validate_steps\u001b[49m\u001b[43m(\u001b[49m\u001b[43m)\u001b[49m\n\u001b[1;32m    358\u001b[0m     \u001b[38;5;66;03m# Setup the memory\u001b[39;00m\n\u001b[1;32m    359\u001b[0m     memory \u001b[38;5;241m=\u001b[39m check_memory(\u001b[38;5;28mself\u001b[39m\u001b[38;5;241m.\u001b[39mmemory)\n",
      "File \u001b[0;32m~/Documents/Simplon/projet_assuraimant/.venv/lib/python3.11/site-packages/sklearn/pipeline.py:241\u001b[0m, in \u001b[0;36mPipeline._validate_steps\u001b[0;34m(self)\u001b[0m\n\u001b[1;32m    237\u001b[0m         \u001b[38;5;28;01mcontinue\u001b[39;00m\n\u001b[1;32m    238\u001b[0m     \u001b[38;5;28;01mif\u001b[39;00m \u001b[38;5;129;01mnot\u001b[39;00m (\u001b[38;5;28mhasattr\u001b[39m(t, \u001b[38;5;124m\"\u001b[39m\u001b[38;5;124mfit\u001b[39m\u001b[38;5;124m\"\u001b[39m) \u001b[38;5;129;01mor\u001b[39;00m \u001b[38;5;28mhasattr\u001b[39m(t, \u001b[38;5;124m\"\u001b[39m\u001b[38;5;124mfit_transform\u001b[39m\u001b[38;5;124m\"\u001b[39m)) \u001b[38;5;129;01mor\u001b[39;00m \u001b[38;5;129;01mnot\u001b[39;00m \u001b[38;5;28mhasattr\u001b[39m(\n\u001b[1;32m    239\u001b[0m         t, \u001b[38;5;124m\"\u001b[39m\u001b[38;5;124mtransform\u001b[39m\u001b[38;5;124m\"\u001b[39m\n\u001b[1;32m    240\u001b[0m     ):\n\u001b[0;32m--> 241\u001b[0m         \u001b[38;5;28;01mraise\u001b[39;00m \u001b[38;5;167;01mTypeError\u001b[39;00m(\n\u001b[1;32m    242\u001b[0m             \u001b[38;5;124m\"\u001b[39m\u001b[38;5;124mAll intermediate steps should be \u001b[39m\u001b[38;5;124m\"\u001b[39m\n\u001b[1;32m    243\u001b[0m             \u001b[38;5;124m\"\u001b[39m\u001b[38;5;124mtransformers and implement fit and transform \u001b[39m\u001b[38;5;124m\"\u001b[39m\n\u001b[1;32m    244\u001b[0m             \u001b[38;5;124m\"\u001b[39m\u001b[38;5;124mor be the string \u001b[39m\u001b[38;5;124m'\u001b[39m\u001b[38;5;124mpassthrough\u001b[39m\u001b[38;5;124m'\u001b[39m\u001b[38;5;124m \u001b[39m\u001b[38;5;124m\"\u001b[39m\n\u001b[1;32m    245\u001b[0m             \u001b[38;5;124m\"\u001b[39m\u001b[38;5;124m'\u001b[39m\u001b[38;5;132;01m%s\u001b[39;00m\u001b[38;5;124m'\u001b[39m\u001b[38;5;124m (type \u001b[39m\u001b[38;5;132;01m%s\u001b[39;00m\u001b[38;5;124m) doesn\u001b[39m\u001b[38;5;124m'\u001b[39m\u001b[38;5;124mt\u001b[39m\u001b[38;5;124m\"\u001b[39m \u001b[38;5;241m%\u001b[39m (t, \u001b[38;5;28mtype\u001b[39m(t))\n\u001b[1;32m    246\u001b[0m         )\n\u001b[1;32m    248\u001b[0m \u001b[38;5;66;03m# We allow last estimator to be None as an identity transformation\u001b[39;00m\n\u001b[1;32m    249\u001b[0m \u001b[38;5;28;01mif\u001b[39;00m (\n\u001b[1;32m    250\u001b[0m     estimator \u001b[38;5;129;01mis\u001b[39;00m \u001b[38;5;129;01mnot\u001b[39;00m \u001b[38;5;28;01mNone\u001b[39;00m\n\u001b[1;32m    251\u001b[0m     \u001b[38;5;129;01mand\u001b[39;00m estimator \u001b[38;5;241m!=\u001b[39m \u001b[38;5;124m\"\u001b[39m\u001b[38;5;124mpassthrough\u001b[39m\u001b[38;5;124m\"\u001b[39m\n\u001b[1;32m    252\u001b[0m     \u001b[38;5;129;01mand\u001b[39;00m \u001b[38;5;129;01mnot\u001b[39;00m \u001b[38;5;28mhasattr\u001b[39m(estimator, \u001b[38;5;124m\"\u001b[39m\u001b[38;5;124mfit\u001b[39m\u001b[38;5;124m\"\u001b[39m)\n\u001b[1;32m    253\u001b[0m ):\n",
      "\u001b[0;31mTypeError\u001b[0m: All intermediate steps should be transformers and implement fit and transform or be the string 'passthrough' 'Pipeline(steps=[('OHE', OneHotEncoder(variables=['region'])),\n                ('smoker', OrdinalEncoder(variables=['smoker', 'sex'])),\n                ('bmi_smoker',\n                 MathFeatures(func='prod', variables=['bmi', 'smoker'])),\n                ('kbins bmi',\n                 ArbitraryDiscretiser(binning_dict={'bmi': [0, 18.5, 25, 30, 40,\n                                                            inf]},\n                                      return_boundaries=True)),\n                ('ohe bmi', OneHotEncoder(variables=['bmi'])),\n                ('poly', PolynomialFeatures()), ('scaler', MinMaxScaler()),\n                ('model',\n                 LassoCV(alphas=array([ 0.1       ,  2.72631579,  5.35263158,  7.97894737, 10.60526316,\n       13.23157895, 15.85789474, 18.48421053, 21.11052632, 23.73684211,\n       26.36315789, 28.98947368, 31.61578947, 34.24210526, 36.86842105,\n       39.49473684, 42.12105263, 44.74736842, 47.37368421, 50.        ]),\n                         fit_intercept=False, max_iter=1000000))])' (type <class 'sklearn.pipeline.Pipeline'>) doesn't"
     ]
    }
   ],
   "source": [
    "from sklearn.linear_model import LinearRegression\n",
    "\n",
    "model = make_pipeline(preprocessor, LinearRegression())\n",
    "model.fit(X_train, y_train)\n",
    "score = model.score(X_test, y_test)\n",
    "\n",
    "predictions = model.predict(X_test)\n",
    "mse = mean_squared_error(y_test, predictions, squared=False)\n",
    "print('Score :', score)\n",
    "print('MSE :', mse)\n",
    "\n",
    "plt.scatter(X_test.bmi, y_test)\n",
    "plt.scatter(X_test.bmi, predictions , c='r', lw=3)"
   ]
  }
 ],
 "metadata": {
  "kernelspec": {
   "display_name": ".venv",
   "language": "python",
   "name": "python3"
  },
  "language_info": {
   "codemirror_mode": {
    "name": "ipython",
    "version": 3
   },
   "file_extension": ".py",
   "mimetype": "text/x-python",
   "name": "python",
   "nbconvert_exporter": "python",
   "pygments_lexer": "ipython3",
   "version": "3.11.2"
  }
 },
 "nbformat": 4,
 "nbformat_minor": 2
}
